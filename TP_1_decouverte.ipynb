{
 "cells": [
  {
   "cell_type": "markdown",
   "metadata": {},
   "source": [
    "# TP 1: Découverte \n",
    "\n",
    "## Introduction à Python et au Jupyter notebook \n",
    "\n",
    "![Image of Python](https://www.python.org/static/community_logos/python-logo-master-v3-TM.png)\n",
    "\n",
    "Bienvenue dans votre premier jupyter notebook. \n",
    "\n",
    "Un notebook présente deux types de \"cases\", des cases permettant d'afficher du texte comme celle-ci et des cases permettant d'éxécuter des instructions dans le langage de programmation Python. Comme la case ci-dessous.\n"
   ]
  },
  {
   "cell_type": "code",
   "execution_count": null,
   "metadata": {},
   "outputs": [],
   "source": [
    "2*3"
   ]
  },
  {
   "cell_type": "markdown",
   "metadata": {},
   "source": [
    "On reconnait les cases permettant d'éxécuter du code par le ![Image of prefix](assets/prefixcode.png) les précédents.\n",
    "\n",
    "Pour éxécuter les instructions contenues dans une case, il suffit de sélectionner la case en cliquant dessus, puis appuyer sur run ou d'utiliser le raccourci [Ctrl-Enter].\n",
    "\n",
    "![run](assets/runjupy.gif) \n",
    "\n",
    "#### Exercice 1:\n",
    "\n",
    "Exécuter l'instruction contenu dans la case ci-dessous:"
   ]
  },
  {
   "cell_type": "code",
   "execution_count": null,
   "metadata": {},
   "outputs": [],
   "source": [
    "3*(4+1)"
   ]
  },
  {
   "cell_type": "markdown",
   "metadata": {},
   "source": [
    "### Faire des calculs\n",
    "\n",
    "Les principales opérations sur les nombres en Python:\n",
    "\n",
    "| En Python | En mathématiques |\n",
    "|------|------|\n",
    "| x + y  | $x + y$ |\n",
    "| x - y  | $x - y$ |\n",
    "| x * y  | $x \\times y$ |\n",
    "| x / y  | $\\frac{x}{y}$ |\n",
    "| x ** 2 | $x ^ 2$ |\n",
    "| x ** y | $x ^ y$ |\n",
    "| x // y | quotient de la division euclidienne de x par y |\n",
    "| x % y  | reste de la division euclidienne de x par y|\n",
    "\n",
    "#### Exercice 2:\n",
    "\n",
    "Effectuer les calculs suivants, dans les cases ci-dessous:\n",
    "\n",
    "1. $\\qquad 3 \\times 2 + 5$\n",
    "2. $\\qquad -4(2 + 7)$\n",
    "3. $\\qquad 17^2$\n",
    "4. $\\qquad 2^{10}$\n",
    "5. $\\qquad \\frac{5}{2}$\n",
    "6. $\\qquad 2,5 + 12,125$\n",
    "\n",
    "<div class=\"alert alert-block alert-danger\">\n",
    "<b>Attention:</b> Le nombre 2,5 se note 2.5 en Python.\n",
    "</div>"
   ]
  },
  {
   "cell_type": "code",
   "execution_count": null,
   "metadata": {},
   "outputs": [],
   "source": [
    "# Faire le calcul 1, ici."
   ]
  },
  {
   "cell_type": "code",
   "execution_count": null,
   "metadata": {},
   "outputs": [],
   "source": [
    "# Faire le calcul 2, ici."
   ]
  },
  {
   "cell_type": "code",
   "execution_count": null,
   "metadata": {},
   "outputs": [],
   "source": [
    "# Faire le calcul 3, ici."
   ]
  },
  {
   "cell_type": "code",
   "execution_count": null,
   "metadata": {},
   "outputs": [],
   "source": [
    "# Faire le calcul 4, ici."
   ]
  },
  {
   "cell_type": "code",
   "execution_count": null,
   "metadata": {},
   "outputs": [],
   "source": [
    "# Faire le calcul 5, ici."
   ]
  },
  {
   "cell_type": "code",
   "execution_count": null,
   "metadata": {},
   "outputs": [],
   "source": [
    "# Faire le calcul 6, ici."
   ]
  },
  {
   "cell_type": "markdown",
   "metadata": {},
   "source": [
    "### Plus sur l'éxécution\n",
    "\n",
    "Les instructions éxécutées dans une case font effet dans toutes les autres, on peut aussi éxécuter plusieurs fois une case:\n",
    "\n",
    "#### Exercice 3: \n",
    "\n",
    "Tester les cases ci-dessous"
   ]
  },
  {
   "cell_type": "code",
   "execution_count": null,
   "metadata": {},
   "outputs": [],
   "source": [
    "# Exécuter \n",
    "a = 2\n",
    "a"
   ]
  },
  {
   "cell_type": "code",
   "execution_count": null,
   "metadata": {},
   "outputs": [],
   "source": [
    "# A exécuter plusieurs fois, que se passe-t-il ? \n",
    "a = a + 1\n",
    "a"
   ]
  },
  {
   "cell_type": "markdown",
   "metadata": {},
   "source": [
    "#### Exercice 4:\n",
    "\n",
    "Ci-dessous se trouve, un programme de calcul, l'éxécuter:"
   ]
  },
  {
   "cell_type": "code",
   "execution_count": null,
   "metadata": {},
   "outputs": [],
   "source": [
    "# A Exécuter\n",
    "x = 3\n",
    "x = 2 * x + 1\n",
    "x = x ** 2"
   ]
  },
  {
   "cell_type": "markdown",
   "metadata": {},
   "source": [
    "Quel est la valeur contenue dans la variable x à la fin du programme de calcul ?"
   ]
  },
  {
   "cell_type": "markdown",
   "metadata": {},
   "source": [
    "<i>Ecrire votre réponse ici.\n",
    "(Double cliquer sur la case pour l'éditer) </i><br/>"
   ]
  },
  {
   "cell_type": "code",
   "execution_count": null,
   "metadata": {},
   "outputs": [],
   "source": [
    "# Pour afficher la valeur contenue dans x\n",
    "x"
   ]
  },
  {
   "cell_type": "markdown",
   "metadata": {},
   "source": [
    "## Première fonction\n",
    "\n",
    "Pour créer une fonction en Python, on utilise la syntaxe suivante:\n",
    "\n",
    "```python\n",
    "def nom_fonction(param1, param2, param3):\n",
    "    instruction\n",
    "    ...\n",
    "    instruction\n",
    "    return valeur\n",
    "```\n",
    "\n",
    "Les instructions dans la fonction sont décalées vers la droite, on parle\n",
    "d'indentation. C'est ce qui permet à l'interpréteur de comprendre que ces\n",
    "instructions sont dans la fonction.\n"
   ]
  },
  {
   "cell_type": "code",
   "execution_count": null,
   "metadata": {},
   "outputs": [],
   "source": [
    "# Exécuter cette exemple\n",
    "\n",
    "def moyenne(x, y):\n",
    "    m = (x + y) / 2\n",
    "    return m"
   ]
  },
  {
   "cell_type": "markdown",
   "metadata": {},
   "source": [
    "On peut désormais utiliser la fonction moyenne. Pour utiliser la fonction il suffit d'entrer son nom avec les valeurs correspondantes."
   ]
  },
  {
   "cell_type": "code",
   "execution_count": null,
   "metadata": {},
   "outputs": [],
   "source": [
    "# Exécuter cette exemple\n",
    "\n",
    "moyenne(0,20)"
   ]
  },
  {
   "cell_type": "markdown",
   "metadata": {},
   "source": [
    "1. Utiliser la fonction _moyenne_ pour calculer la moyenne de 13 et 19.\n",
    "2. Ecrire une fonction moyenne_trois qui permet de calculer la moyenne de trois nombres.\n",
    "3. Calculer la moyenne de 11, 13 et 17 à l'aide de cette fonction.\n"
   ]
  },
  {
   "cell_type": "code",
   "execution_count": null,
   "metadata": {},
   "outputs": [],
   "source": [
    "# Question 1 à faire ici."
   ]
  },
  {
   "cell_type": "code",
   "execution_count": null,
   "metadata": {},
   "outputs": [],
   "source": [
    "# Question 2 à faire ici."
   ]
  },
  {
   "cell_type": "code",
   "execution_count": null,
   "metadata": {},
   "outputs": [],
   "source": [
    "# Question 3 à faire ici."
   ]
  }
 ],
 "metadata": {
  "kernelspec": {
   "display_name": "Python 3",
   "language": "python",
   "name": "python3"
  },
  "language_info": {
   "codemirror_mode": {
    "name": "ipython",
    "version": 3
   },
   "file_extension": ".py",
   "mimetype": "text/x-python",
   "name": "python",
   "nbconvert_exporter": "python",
   "pygments_lexer": "ipython3",
   "version": "3.6.4"
  }
 },
 "nbformat": 4,
 "nbformat_minor": 2
}
